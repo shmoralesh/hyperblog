{
  "nbformat": 4,
  "nbformat_minor": 0,
  "metadata": {
    "colab": {
      "name": "Bootstrapping.ipynb",
      "provenance": [],
      "authorship_tag": "ABX9TyMbx5BPne4UHsXQc1M80yXS",
      "include_colab_link": true
    },
    "kernelspec": {
      "name": "python3",
      "display_name": "Python 3"
    },
    "language_info": {
      "name": "python"
    }
  },
  "cells": [
    {
      "cell_type": "markdown",
      "metadata": {
        "id": "view-in-github",
        "colab_type": "text"
      },
      "source": [
        "<a href=\"https://colab.research.google.com/github/shmoralesh/hyperblog/blob/main/Bootstrapping.ipynb\" target=\"_parent\"><img src=\"https://colab.research.google.com/assets/colab-badge.svg\" alt=\"Open In Colab\"/></a>"
      ]
    },
    {
      "cell_type": "markdown",
      "source": [
        "### Importamos las librerías necesarias para el análisis:"
      ],
      "metadata": {
        "id": "grdxn8za7vyU"
      }
    },
    {
      "cell_type": "code",
      "source": [
        "import pandas as pd\n",
        "import numpy as np\n",
        "import random"
      ],
      "metadata": {
        "id": "h30XLvpg8CBE"
      },
      "execution_count": 1,
      "outputs": []
    },
    {
      "cell_type": "code",
      "source": [
        "# Creamos una tabla aleatoria de datos. Con media de 34 y 10.000 datos\n",
        "data = np.random.normal(loc = 34, size = 10000)\n",
        "data"
      ],
      "metadata": {
        "colab": {
          "base_uri": "https://localhost:8080/"
        },
        "id": "psV0ti3X8F5W",
        "outputId": "f9af918a-1b96-4079-f82b-ae2a76445641"
      },
      "execution_count": 2,
      "outputs": [
        {
          "output_type": "execute_result",
          "data": {
            "text/plain": [
              "array([33.81489435, 33.10493009, 35.98156197, ..., 33.52038328,\n",
              "       35.03910168, 33.66659968])"
            ]
          },
          "metadata": {},
          "execution_count": 2
        }
      ]
    },
    {
      "cell_type": "code",
      "source": [
        "# Validamos el promedio\n",
        "data.mean()"
      ],
      "metadata": {
        "colab": {
          "base_uri": "https://localhost:8080/"
        },
        "id": "G8ndZqOR8ZXK",
        "outputId": "b28705a8-bbdc-48d3-9ab1-b60d473b46e1"
      },
      "execution_count": 3,
      "outputs": [
        {
          "output_type": "execute_result",
          "data": {
            "text/plain": [
              "34.0098001787314"
            ]
          },
          "metadata": {},
          "execution_count": 3
        }
      ]
    },
    {
      "cell_type": "markdown",
      "source": [
        "### Iniciamos bootstrapping para calcular el promedio de edades"
      ],
      "metadata": {
        "id": "2RkoFhyw8eHp"
      }
    },
    {
      "cell_type": "code",
      "source": [
        "promedio = []\n",
        "# La idea es hacer varios remuestreos de tamaño pequeños. En este caso haremos 40 remuestreos con un tamaño de 5 c/u\n",
        "for i in range(40):\n",
        "  muestra = random.sample(data.tolist(),5)\n",
        "  prom = np.mean(muestra)\n",
        "  promedio.append(prom)"
      ],
      "metadata": {
        "id": "D97A8J-j8jZZ"
      },
      "execution_count": 4,
      "outputs": []
    },
    {
      "cell_type": "code",
      "source": [
        "# Vamos a buscar el valor promedio de toda la lista de muestras\n",
        "np.mean(promedio)\n",
        "# Con este método nos ayuda a no sesgar los resultados. A evitar lo que en data science se conoce como overfitting, el sobreajuste que sucede cuando la estimacióne es demasiado cercana al valor real"
      ],
      "metadata": {
        "colab": {
          "base_uri": "https://localhost:8080/"
        },
        "id": "AwwNDx0z9I32",
        "outputId": "dc096cf9-9d83-4ec2-d41b-914e0fd3d55e"
      },
      "execution_count": 5,
      "outputs": [
        {
          "output_type": "execute_result",
          "data": {
            "text/plain": [
              "34.21416708776077"
            ]
          },
          "metadata": {},
          "execution_count": 5
        }
      ]
    }
  ]
}